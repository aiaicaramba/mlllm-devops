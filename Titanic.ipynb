{
 "cells": [
  {
   "cell_type": "code",
   "execution_count": 8,
   "metadata": {},
   "outputs": [
    {
     "name": "stdout",
     "output_type": "stream",
     "text": [
      "Note: you may need to restart the kernel to use updated packages.\n"
     ]
    }
   ],
   "source": [
    "%pip -q install scikit-learn pandas numpy matplotlib"
   ]
  },
  {
   "cell_type": "code",
   "execution_count": 69,
   "metadata": {},
   "outputs": [],
   "source": [
    "# Surpress warnings\n",
    "import warnings\n",
    "warnings.filterwarnings('ignore')"
   ]
  },
  {
   "cell_type": "code",
   "execution_count": 70,
   "metadata": {},
   "outputs": [
    {
     "data": {
      "text/html": [
       "<div>\n",
       "<style scoped>\n",
       "    .dataframe tbody tr th:only-of-type {\n",
       "        vertical-align: middle;\n",
       "    }\n",
       "\n",
       "    .dataframe tbody tr th {\n",
       "        vertical-align: top;\n",
       "    }\n",
       "\n",
       "    .dataframe thead th {\n",
       "        text-align: right;\n",
       "    }\n",
       "</style>\n",
       "<table border=\"1\" class=\"dataframe\">\n",
       "  <thead>\n",
       "    <tr style=\"text-align: right;\">\n",
       "      <th></th>\n",
       "      <th>Pclass</th>\n",
       "      <th>Sex</th>\n",
       "      <th>Age</th>\n",
       "      <th>SibSp</th>\n",
       "      <th>Parch</th>\n",
       "      <th>Fare</th>\n",
       "      <th>Embarked</th>\n",
       "    </tr>\n",
       "  </thead>\n",
       "  <tbody>\n",
       "    <tr>\n",
       "      <th>886</th>\n",
       "      <td>2</td>\n",
       "      <td>male</td>\n",
       "      <td>27.0</td>\n",
       "      <td>0</td>\n",
       "      <td>0</td>\n",
       "      <td>13.00</td>\n",
       "      <td>S</td>\n",
       "    </tr>\n",
       "    <tr>\n",
       "      <th>887</th>\n",
       "      <td>1</td>\n",
       "      <td>female</td>\n",
       "      <td>19.0</td>\n",
       "      <td>0</td>\n",
       "      <td>0</td>\n",
       "      <td>30.00</td>\n",
       "      <td>S</td>\n",
       "    </tr>\n",
       "    <tr>\n",
       "      <th>888</th>\n",
       "      <td>3</td>\n",
       "      <td>female</td>\n",
       "      <td>NaN</td>\n",
       "      <td>1</td>\n",
       "      <td>2</td>\n",
       "      <td>23.45</td>\n",
       "      <td>S</td>\n",
       "    </tr>\n",
       "    <tr>\n",
       "      <th>889</th>\n",
       "      <td>1</td>\n",
       "      <td>male</td>\n",
       "      <td>26.0</td>\n",
       "      <td>0</td>\n",
       "      <td>0</td>\n",
       "      <td>30.00</td>\n",
       "      <td>C</td>\n",
       "    </tr>\n",
       "    <tr>\n",
       "      <th>890</th>\n",
       "      <td>3</td>\n",
       "      <td>male</td>\n",
       "      <td>32.0</td>\n",
       "      <td>0</td>\n",
       "      <td>0</td>\n",
       "      <td>7.75</td>\n",
       "      <td>Q</td>\n",
       "    </tr>\n",
       "  </tbody>\n",
       "</table>\n",
       "</div>"
      ],
      "text/plain": [
       "     Pclass     Sex   Age  SibSp  Parch   Fare Embarked\n",
       "886       2    male  27.0      0      0  13.00        S\n",
       "887       1  female  19.0      0      0  30.00        S\n",
       "888       3  female   NaN      1      2  23.45        S\n",
       "889       1    male  26.0      0      0  30.00        C\n",
       "890       3    male  32.0      0      0   7.75        Q"
      ]
     },
     "execution_count": 70,
     "metadata": {},
     "output_type": "execute_result"
    }
   ],
   "source": [
    "import pandas as pd\n",
    "import numpy as np\n",
    "from sklearn.model_selection import train_test_split\n",
    "from sklearn.preprocessing import LabelEncoder\n",
    "\n",
    "# Load the data\n",
    "data = pd.read_csv(\"data/titanic.csv\")\n",
    "\n",
    "# Select features from PassengerId,Survived,Pclass,Name,Sex,Age,SibSp,Parch,Ticket,Fare,Cabin,Embarked\n",
    "features = [\"Pclass\", \"Sex\", \"Age\", \"SibSp\", \"Parch\", \"Fare\", \"Embarked\"]\n",
    "X = data[features]\n",
    "y = data[\"Survived\"]\n",
    "\n",
    "X.tail()"
   ]
  },
  {
   "cell_type": "code",
   "execution_count": 71,
   "metadata": {},
   "outputs": [
    {
     "data": {
      "text/plain": [
       "array([ 3.  ,  1.  , 22.  ,  1.  ,  0.  ,  7.25,  2.  ])"
      ]
     },
     "execution_count": 71,
     "metadata": {},
     "output_type": "execute_result"
    }
   ],
   "source": [
    "# Handle missing values\n",
    "X[\"Age\"].fillna(X[\"Age\"].median(), inplace=True)\n",
    "X[\"Embarked\"].fillna(X[\"Embarked\"].mode()[0], inplace=True)\n",
    "\n",
    "# Encode categorical variables\n",
    "le = LabelEncoder()\n",
    "X[\"Sex\"] = le.fit_transform(X[\"Sex\"])\n",
    "X[\"Embarked\"] = le.fit_transform(X[\"Embarked\"])\n",
    "\n",
    "# Convert to numpy arrays\n",
    "X = X.values\n",
    "y = y.values\n",
    "\n",
    "# Split the data\n",
    "X_train, X_test, y_train, y_test = train_test_split(\n",
    "    X, y, test_size=0.2, random_state=42\n",
    ")\n",
    "X[0]"
   ]
  },
  {
   "cell_type": "code",
   "execution_count": 72,
   "metadata": {},
   "outputs": [],
   "source": [
    "# Assuming the SimpleDecisionTree class is already defined\n",
    "from SimpleDecisionTree import SimpleDecisionTree\n",
    "\n",
    "tree = SimpleDecisionTree()\n",
    "tree.fit(X_train, y_train)"
   ]
  },
  {
   "cell_type": "code",
   "execution_count": 73,
   "metadata": {},
   "outputs": [
    {
     "data": {
      "text/plain": [
       "[0, 0, 0, 1, 1]"
      ]
     },
     "execution_count": 73,
     "metadata": {},
     "output_type": "execute_result"
    }
   ],
   "source": [
    "y_pred = tree.predict(X_test)\n",
    "y_pred[:5]"
   ]
  },
  {
   "cell_type": "code",
   "execution_count": 74,
   "metadata": {},
   "outputs": [
    {
     "name": "stdout",
     "output_type": "stream",
     "text": [
      "Accuracy: 0.80\n",
      "\n",
      "Classification Report:\n",
      "              precision    recall  f1-score   support\n",
      "\n",
      "           0       0.79      0.90      0.84       105\n",
      "           1       0.83      0.66      0.74        74\n",
      "\n",
      "    accuracy                           0.80       179\n",
      "   macro avg       0.81      0.78      0.79       179\n",
      "weighted avg       0.81      0.80      0.80       179\n",
      "\n"
     ]
    }
   ],
   "source": [
    "from sklearn.metrics import accuracy_score, classification_report\n",
    "\n",
    "accuracy = accuracy_score(y_test, y_pred)\n",
    "print(f\"Accuracy: {accuracy:.2f}\")\n",
    "\n",
    "print(\"\\nClassification Report:\")\n",
    "print(classification_report(y_test, y_pred))"
   ]
  },
  {
   "cell_type": "code",
   "execution_count": 75,
   "metadata": {},
   "outputs": [
    {
     "name": "stdout",
     "output_type": "stream",
     "text": [
      "Split on Sex < 1.00\n",
      "  Left:\n",
      "    Split on Pclass < 3.00\n",
      "      Left:\n",
      "        Split on Age < 3.00\n",
      "          Left:\n",
      "            Split on Pclass < 2.00\n",
      "              Left:\n",
      "                Predict: 0\n",
      "              Right:\n",
      "                Predict: 1\n",
      "          Right:\n",
      "            Split on Age < 28.00\n",
      "              Left:\n",
      "                Split on Age < 24.00\n",
      "                  Left:\n",
      "                    Predict: 1\n",
      "                  Right:\n",
      "                    Predict: 1\n",
      "              Right:\n",
      "                Split on Age < 50.00\n",
      "                  Left:\n",
      "                    Predict: 1\n",
      "                  Right:\n",
      "                    Predict: 1\n",
      "      Right:\n",
      "        Split on Fare < 23.45\n",
      "          Left:\n",
      "            Split on Embarked < 2.00\n",
      "              Left:\n",
      "                Split on Fare < 15.50\n",
      "                  Left:\n",
      "                    Predict: 1\n",
      "                  Right:\n",
      "                    Predict: 1\n",
      "              Right:\n",
      "                Split on Fare < 7.75\n",
      "                  Left:\n",
      "                    Predict: 1\n",
      "                  Right:\n",
      "                    Predict: 0\n",
      "          Right:\n",
      "            Split on Age < 6.00\n",
      "              Left:\n",
      "                Split on Age < 5.00\n",
      "                  Left:\n",
      "                    Predict: 0\n",
      "                  Right:\n",
      "                    Predict: 1\n",
      "              Right:\n",
      "                Predict: 0\n",
      "  Right:\n",
      "    Split on Age < 7.00\n",
      "      Left:\n",
      "        Split on SibSp < 3.00\n",
      "          Left:\n",
      "            Predict: 1\n",
      "          Right:\n",
      "            Split on Age < 3.00\n",
      "              Left:\n",
      "                Predict: 0\n",
      "              Right:\n",
      "                Split on Age < 4.00\n",
      "                  Left:\n",
      "                    Predict: 1\n",
      "                  Right:\n",
      "                    Predict: 0\n",
      "      Right:\n",
      "        Split on Pclass < 2.00\n",
      "          Left:\n",
      "            Split on Fare < 26.29\n",
      "              Left:\n",
      "                Predict: 0\n",
      "              Right:\n",
      "                Split on Fare < 26.55\n",
      "                  Left:\n",
      "                    Predict: 1\n",
      "                  Right:\n",
      "                    Predict: 0\n",
      "          Right:\n",
      "            Split on Age < 32.50\n",
      "              Left:\n",
      "                Split on Age < 32.00\n",
      "                  Left:\n",
      "                    Predict: 0\n",
      "                  Right:\n",
      "                    Predict: 0\n",
      "              Right:\n",
      "                Split on Fare < 13.50\n",
      "                  Left:\n",
      "                    Predict: 0\n",
      "                  Right:\n",
      "                    Predict: 0\n"
     ]
    }
   ],
   "source": [
    "def visualize_tree(node, depth=0):\n",
    "    if \"value\" in node:\n",
    "        print(\"  \" * depth + f\"Predict: {node['value']}\")\n",
    "    else:\n",
    "        feature_names = [\"Pclass\", \"Sex\", \"Age\", \"SibSp\", \"Parch\", \"Fare\", \"Embarked\"]\n",
    "        print(\n",
    "            \"  \" * depth\n",
    "            + f\"Split on {feature_names[node['feature_index']]} < {node['threshold']:.2f}\"\n",
    "        )\n",
    "        print(\"  \" * (depth + 1) + \"Left:\")\n",
    "        visualize_tree(node[\"left\"], depth + 2)\n",
    "        print(\"  \" * (depth + 1) + \"Right:\")\n",
    "        visualize_tree(node[\"right\"], depth + 2)\n",
    "\n",
    "\n",
    "visualize_tree(tree.tree)"
   ]
  },
  {
   "cell_type": "code",
   "execution_count": 76,
   "metadata": {},
   "outputs": [
    {
     "name": "stdout",
     "output_type": "stream",
     "text": [
      "Feature Pclass: 0.1304\n",
      "Feature Sex: 0.0435\n",
      "Feature Age: 0.4783\n",
      "Feature SibSp: 0.0435\n",
      "Feature Parch: 0.0000\n",
      "Feature Fare: 0.2609\n",
      "Feature Embarked: 0.0435\n"
     ]
    }
   ],
   "source": [
    "def calculate_feature_importance(tree):\n",
    "    def count_feature_usage(node, counts):\n",
    "        if \"feature_index\" in node:\n",
    "            counts[node[\"feature_index\"]] += 1\n",
    "            count_feature_usage(node[\"left\"], counts)\n",
    "            count_feature_usage(node[\"right\"], counts)\n",
    "\n",
    "    feature_counts = [0] * tree.n_features\n",
    "    count_feature_usage(tree.tree, feature_counts)\n",
    "    total = sum(feature_counts)\n",
    "    return [count / total for count in feature_counts]\n",
    "\n",
    "\n",
    "feature_importance = calculate_feature_importance(tree)\n",
    "for i, importance in enumerate(feature_importance):\n",
    "    print(f\"Feature {features[i]}: {importance:.4f}\")"
   ]
  }
 ],
 "metadata": {
  "kernelspec": {
   "display_name": "venv",
   "language": "python",
   "name": "python3"
  },
  "language_info": {
   "codemirror_mode": {
    "name": "ipython",
    "version": 3
   },
   "file_extension": ".py",
   "mimetype": "text/x-python",
   "name": "python",
   "nbconvert_exporter": "python",
   "pygments_lexer": "ipython3",
   "version": "3.11.7"
  }
 },
 "nbformat": 4,
 "nbformat_minor": 2
}
